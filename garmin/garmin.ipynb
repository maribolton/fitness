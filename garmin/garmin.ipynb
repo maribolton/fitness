{
 "cells": [
  {
   "cell_type": "markdown",
   "id": "outer-girlfriend",
   "metadata": {},
   "source": [
    "# Garmin API"
   ]
  },
  {
   "cell_type": "markdown",
   "id": "specific-conclusion",
   "metadata": {},
   "source": [
    "#### Docs\n",
    "- https://developer.garmin.com/gc-developer-program/activity-api/"
   ]
  },
  {
   "cell_type": "code",
   "execution_count": null,
   "id": "together-bidder",
   "metadata": {},
   "outputs": [],
   "source": []
  },
  {
   "cell_type": "code",
   "execution_count": null,
   "id": "headed-learning",
   "metadata": {},
   "outputs": [],
   "source": []
  },
  {
   "cell_type": "code",
   "execution_count": null,
   "id": "suspended-scanning",
   "metadata": {},
   "outputs": [],
   "source": []
  }
 ],
 "metadata": {
  "kernelspec": {
   "display_name": "Python 3",
   "language": "python",
   "name": "python3"
  },
  "language_info": {
   "codemirror_mode": {
    "name": "ipython",
    "version": 3
   },
   "file_extension": ".py",
   "mimetype": "text/x-python",
   "name": "python",
   "nbconvert_exporter": "python",
   "pygments_lexer": "ipython3",
   "version": "3.9.1"
  }
 },
 "nbformat": 4,
 "nbformat_minor": 5
}
